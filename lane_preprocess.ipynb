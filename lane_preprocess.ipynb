{
 "cells": [
  {
   "cell_type": "code",
   "execution_count": 1,
   "outputs": [],
   "source": [
    "import os\n",
    "import random\n",
    "import time\n",
    "from typing import Tuple\n",
    "\n",
    "import numpy as np\n",
    "import torch\n",
    "import tqdm\n",
    "from PIL import Image\n",
    "import cv2 as cv\n",
    "import numpy\n",
    "import math\n",
    "import utils\n",
    "from nuscenes import NuScenes\n",
    "from nuscenes.eval.prediction.splits import get_prediction_challenge_split\n",
    "from nuscenes.prediction import PredictHelper\n",
    "from nuscenes.prediction.input_representation.static_layers import StaticLayerRasterizer\n",
    "from nuscenes.prediction.input_representation.agents import AgentBoxesWithFadedHistory\n",
    "from nuscenes.prediction.input_representation.interface import InputRepresentation\n",
    "from nuscenes.prediction.input_representation.combinators import Rasterizer\n",
    "from nuscenes.eval.common.utils import quaternion_yaw\n",
    "from pyquaternion import Quaternion\n",
    "from nuscenes.map_expansion.map_api import NuScenesMap\n",
    "from nuscenes.map_expansion import arcline_path_utils\n",
    "from nuscenes.prediction.input_representation.static_layers import correct_yaw\n",
    "from matplotlib import pyplot as plt\n",
    "from nuscenes.map_expansion.bitmap import BitMap\n",
    "import threading\n",
    "from threading import Thread, Lock\n",
    "import multiprocessing as mp\n",
    "from utils import NuscenesUtil"
   ],
   "metadata": {
    "collapsed": false,
    "pycharm": {
     "name": "#%%\n"
    }
   }
  },
  {
   "cell_type": "code",
   "execution_count": 2,
   "outputs": [],
   "source": [
    "a = torch.tensor([[1, 2], [3, 4], [5, 6]])\n",
    "t = torch.zeros(2, 2)"
   ],
   "metadata": {
    "collapsed": false,
    "pycharm": {
     "name": "#%%\n"
    }
   }
  },
  {
   "cell_type": "code",
   "execution_count": 2,
   "outputs": [
    {
     "name": "stdout",
     "output_type": "stream",
     "text": [
      "======\n",
      "Loading NuScenes tables for version v1.0-trainval...\n",
      "23 category,\n",
      "8 attribute,\n",
      "4 visibility,\n",
      "64386 instance,\n",
      "12 sensor,\n",
      "10200 calibrated_sensor,\n",
      "2631083 ego_pose,\n",
      "68 log,\n",
      "850 scene,\n",
      "34149 sample,\n",
      "2631083 sample_data,\n",
      "1166187 sample_annotation,\n",
      "4 map,\n",
      "Done loading in 62.869 seconds.\n",
      "======\n",
      "Reverse indexing ...\n",
      "Done reverse indexing in 15.9 seconds.\n",
      "======\n"
     ]
    }
   ],
   "source": [
    "nusc = NuScenes(version='v1.0-trainval', dataroot='E:\\\\nuScenesDataset\\\\v1.0-trainval_meta', verbose=True)"
   ],
   "metadata": {
    "collapsed": false,
    "pycharm": {
     "name": "#%%\n"
    }
   }
  },
  {
   "cell_type": "code",
   "execution_count": 3,
   "outputs": [],
   "source": [
    "nusc_map = NuScenesMap(map_name='singapore-hollandvillage', dataroot='E:\\\\nuScenesDataset\\\\v1.0-trainval_meta')\n",
    "\n",
    "map_locs = ['singapore-onenorth', 'singapore-hollandvillage', 'singapore-queenstown', 'boston-seaport']\n",
    "maps = {item: NuScenesMap(map_name=item, dataroot='E:\\\\nuScenesDataset\\\\v1.0-trainval_meta') for item in map_locs}\n",
    "\n",
    "\n",
    "helper = PredictHelper(nusc)\n",
    "# static_layer_rasterizer = StaticLayerRasterizer(helper, meters_ahead=80, meters_left=50, meters_right=50)\n",
    "static_layer_rasterizer = StaticLayerRasterizer(helper)\n",
    "# agent_rasterizer = AgentBoxesWithFadedHistory(helper, seconds_of_history=1, meters_ahead=80, meters_left=50, meters_right=50)\n",
    "agent_rasterizer = AgentBoxesWithFadedHistory(helper, seconds_of_history=1)\n",
    "mtp_input_representation = InputRepresentation(static_layer_rasterizer, agent_rasterizer, Rasterizer())\n",
    "bitmap = BitMap(nusc_map.dataroot, nusc_map.map_name, 'basemap')"
   ],
   "metadata": {
    "collapsed": false,
    "pycharm": {
     "name": "#%%\n"
    }
   }
  },
  {
   "cell_type": "code",
   "execution_count": 4,
   "outputs": [],
   "source": [
    "challenges = get_prediction_challenge_split('train', 'E:\\\\nuScenesDataset\\\\v1.0-trainval_meta')\n",
    "target_instance_token, sample_token = challenges[900].split('_')\n",
    "# target_instance_token, sample_token = challenges[200].split('_')\n",
    "target_ann = helper.get_sample_annotation(target_instance_token, sample_token)"
   ],
   "metadata": {
    "collapsed": false,
    "pycharm": {
     "name": "#%%\n"
    }
   }
  },
  {
   "cell_type": "code",
   "execution_count": 11,
   "outputs": [
    {
     "data": {
      "text/plain": "torch.Size([964, 3])"
     },
     "execution_count": 11,
     "metadata": {},
     "output_type": "execute_result"
    }
   ],
   "source": [
    "def generate_lanes_information(challenge):\n",
    "    instance_token, sample_token = challenge.split('_')\n",
    "    map_name = helper.get_map_name_from_sample_token(sample_token)\n",
    "    nusc_map = maps[map_name]\n",
    "    # get the location of target vehicle\n",
    "    target_ann = helper.get_sample_annotation(instance_token, sample_token)\n",
    "    target_x, target_y, target_yaw = target_ann['translation'][0], target_ann['translation'][1], NuscenesUtil.get_correct_yaw(target_ann['rotation'])\n",
    "    # get lane record around the target vehicle\n",
    "    lanes = NuscenesUtil.get_lanes_in_radius(target_x, target_y, 30, 1, nusc_map)\n",
    "    result = []\n",
    "    # transform the lane record to list of coordinate\n",
    "    for lane_token in lanes:\n",
    "        coordinates = lanes[lane_token]\n",
    "        for coordinate in coordinates:\n",
    "            x, y, yaw = coordinate[0], coordinate[1], coordinate[2]\n",
    "            x, y, yaw = NuscenesUtil.align_coordinate(target_x, target_y, target_yaw, x, y, yaw)\n",
    "            result.append(torch.tensor([x, y, yaw]))\n",
    "    result = torch.stack(result) if len(result) > 0 else torch.tensor([[0, 0, 0]])\n",
    "    return result\n",
    "\n",
    "generate_lanes_information(challenges[622]).shape"
   ],
   "metadata": {
    "collapsed": false,
    "pycharm": {
     "name": "#%%\n"
    }
   }
  },
  {
   "cell_type": "code",
   "execution_count": 12,
   "outputs": [
    {
     "name": "stderr",
     "output_type": "stream",
     "text": [
      "100%|██████████| 32186/32186 [1:38:50<00:00,  5.43it/s]  \n"
     ]
    }
   ],
   "source": [
    "result = {}\n",
    "for challenge in tqdm.tqdm(challenges):\n",
    "    result[challenge] = generate_lanes_information(challenge)\n"
   ],
   "metadata": {
    "collapsed": false,
    "pycharm": {
     "name": "#%%\n"
    }
   }
  },
  {
   "cell_type": "code",
   "execution_count": 13,
   "outputs": [],
   "source": [
    "torch.save(result, './preprocess_lane_discrete/train.data')"
   ],
   "metadata": {
    "collapsed": false,
    "pycharm": {
     "name": "#%%\n"
    }
   }
  },
  {
   "cell_type": "code",
   "execution_count": 14,
   "outputs": [
    {
     "name": "stderr",
     "output_type": "stream",
     "text": [
      "100%|██████████| 9041/9041 [24:53<00:00,  6.05it/s]\n"
     ]
    }
   ],
   "source": [
    "challenges = get_prediction_challenge_split('val', 'E:\\\\nuScenesDataset\\\\v1.0-trainval_meta')\n",
    "result = {}\n",
    "for challenge in tqdm.tqdm(challenges):\n",
    "    result[challenge] = generate_lanes_information(challenge)\n",
    "torch.save(result, './preprocess_lane_discrete/val.data')"
   ],
   "metadata": {
    "collapsed": false,
    "pycharm": {
     "name": "#%%\n"
    }
   }
  },
  {
   "cell_type": "code",
   "execution_count": 12,
   "outputs": [],
   "source": [
    "from visualization_utils import VisualizationUtil\n",
    "\n",
    "instance_token, sample_token = challenges[0].split('_')\n",
    "map_name = helper.get_map_name_from_sample_token(sample_token)\n",
    "nusc_map = maps[map_name]\n",
    "# get the location of target vehicle\n",
    "target_ann = helper.get_sample_annotation(instance_token, sample_token)\n",
    "target_x, target_y, target_yaw = target_ann['translation'][0], target_ann['translation'][1], NuscenesUtil.get_correct_yaw(target_ann['rotation'])\n",
    "# get lane record around the target vehicle\n",
    "lanes = NuscenesUtil.get_lanes_in_radius(target_x, target_y, 60, 1, nusc_map)\n",
    "result = []\n",
    "base_image = np.zeros((500, 500, 3))\n",
    "# transform the lane record to list of coordinate\n",
    "for lane_token in lanes:\n",
    "    coordinates = lanes[lane_token]\n",
    "    start_x, start_y, start_yaw = coordinates[0][0], coordinates[0][1], coordinates[0][2]\n",
    "    start_x, start_y, start_yaw = NuscenesUtil.align_coordinate(target_x, target_y, target_yaw, start_x, start_y, start_yaw)\n",
    "    for index in range(1, len(coordinates)):\n",
    "        coordinate = coordinates[index]\n",
    "        x, y, yaw = coordinate[0], coordinate[1], coordinate[2]\n",
    "        x, y, yaw = NuscenesUtil.align_coordinate(target_x, target_y, target_yaw, x, y, yaw)\n",
    "        VisualizationUtil.draw_line(base_image, start_x, start_y, x, y, [255, 0, 0])\n",
    "        start_x, start_y, start_yaw = x, y, yaw\n",
    "        result.append(torch.tensor([x, y, yaw]))\n",
    "\n",
    "VisualizationUtil.show_image(base_image)\n"
   ],
   "metadata": {
    "collapsed": false,
    "pycharm": {
     "name": "#%%\n"
    }
   }
  },
  {
   "cell_type": "code",
   "execution_count": 17,
   "outputs": [
    {
     "data": {
      "text/plain": "(739.332, 1528.803, -0.7206464481481953)"
     },
     "execution_count": 17,
     "metadata": {},
     "output_type": "execute_result"
    }
   ],
   "source": [
    "target_ann['translation'][0], target_ann['translation'][1], NuscenesUtil.get_correct_yaw(target_ann['rotation'])"
   ],
   "metadata": {
    "collapsed": false,
    "pycharm": {
     "name": "#%%\n"
    }
   }
  },
  {
   "cell_type": "code",
   "execution_count": 18,
   "outputs": [
    {
     "data": {
      "text/plain": "41.25296124941927"
     },
     "execution_count": 18,
     "metadata": {},
     "output_type": "execute_result"
    }
   ],
   "source": [
    "angle = 0.72\n",
    "angle / np.pi * 180"
   ],
   "metadata": {
    "collapsed": false,
    "pycharm": {
     "name": "#%%\n"
    }
   }
  },
  {
   "cell_type": "code",
   "execution_count": 15,
   "outputs": [
    {
     "name": "stderr",
     "output_type": "stream",
     "text": [
      "D:\\anaconda\\lib\\site-packages\\nuscenes\\map_expansion\\map_api.py:1823: ShapelyDeprecationWarning: Iteration over multi-part geometries is deprecated and will be removed in Shapely 2.0. Use the `geoms` property to access the constituent parts of a multi-part geometry.\n",
      "  exteriors = [int_coords(poly.exterior.coords) for poly in polygons]\n",
      "D:\\anaconda\\lib\\site-packages\\nuscenes\\map_expansion\\map_api.py:1824: ShapelyDeprecationWarning: Iteration over multi-part geometries is deprecated and will be removed in Shapely 2.0. Use the `geoms` property to access the constituent parts of a multi-part geometry.\n",
      "  interiors = [int_coords(pi.coords) for poly in polygons for pi in poly.interiors]\n"
     ]
    },
    {
     "data": {
      "text/plain": "<matplotlib.image.AxesImage at 0x2c8caeb7c70>"
     },
     "execution_count": 15,
     "metadata": {},
     "output_type": "execute_result"
    },
    {
     "data": {
      "text/plain": "<Figure size 432x288 with 1 Axes>",
      "image/png": "[encoded data removed]"
     },
     "metadata": {},
     "output_type": "display_data"
    }
   ],
   "source": [
    "import matplotlib.pyplot as plt\n",
    "\n",
    "instance_token, sample_token = challenges[6220].split('_')\n",
    "img = mtp_input_representation.make_input_representation(instance_token, sample_token)\n",
    "plt.imshow(img)"
   ],
   "metadata": {
    "collapsed": false,
    "pycharm": {
     "name": "#%%\n"
    }
   }
  }
 ],
 "metadata": {
  "kernelspec": {
   "display_name": "Python 3",
   "language": "python",
   "name": "python3"
  },
  "language_info": {
   "codemirror_mode": {
    "name": "ipython",
    "version": 2
   },
   "file_extension": ".py",
   "mimetype": "text/x-python",
   "name": "python",
   "nbconvert_exporter": "python",
   "pygments_lexer": "ipython2",
   "version": "2.7.6"
  }
 },
 "nbformat": 4,
 "nbformat_minor": 0
}